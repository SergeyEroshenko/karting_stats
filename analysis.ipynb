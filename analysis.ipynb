{
 "cells": [
  {
   "cell_type": "code",
   "execution_count": 1,
   "id": "27e12e04",
   "metadata": {},
   "outputs": [],
   "source": [
    "import pandas as pd"
   ]
  },
  {
   "cell_type": "code",
   "execution_count": 31,
   "id": "aa738c09",
   "metadata": {},
   "outputs": [],
   "source": [
    "df = pd.read_excel(\"data/lap_times.xlsx\", engine=\"openpyxl\")\n",
    "df.columns = pd.to_datetime(df.columns, errors='coerce').date\n",
    "df = df.dropna(1)"
   ]
  },
  {
   "cell_type": "code",
   "execution_count": 33,
   "id": "94326bc3",
   "metadata": {},
   "outputs": [
    {
     "data": {
      "text/plain": [
       "<AxesSubplot:>"
      ]
     },
     "execution_count": 33,
     "metadata": {},
     "output_type": "execute_result"
    },
    {
     "data": {
      "image/png": "[encoded data removed]",
      "text/plain": [
       "<Figure size 640x480 with 1 Axes>"
      ]
     },
     "metadata": {},
     "output_type": "display_data"
    }
   ],
   "source": [
    "df.plot.box()"
   ]
  },
  {
   "cell_type": "code",
   "execution_count": 34,
   "id": "7c15b674",
   "metadata": {},
   "outputs": [
    {
     "data": {
      "text/plain": [
       "2024-02-01    34.7\n",
       "dtype: float64"
      ]
     },
     "execution_count": 34,
     "metadata": {},
     "output_type": "execute_result"
    }
   ],
   "source": [
    "df.median()"
   ]
  },
  {
   "cell_type": "code",
   "execution_count": 36,
   "id": "7a7a79df",
   "metadata": {},
   "outputs": [
    {
     "name": "stdout",
     "output_type": "stream",
     "text": [
      "total 64\r\n",
      "drwxr-xr-x   9 sergejerosenko  staff    288  2 фев 09:41 \u001b[34m.\u001b[m\u001b[m\r\n",
      "drwxr-xr-x  32 sergejerosenko  staff   1024  1 фев 17:16 \u001b[34m..\u001b[m\u001b[m\r\n",
      "-rw-r--r--@  1 sergejerosenko  staff   6148  1 фев 17:25 .DS_Store\r\n",
      "drwxr-xr-x  12 sergejerosenko  staff    384  1 фев 17:16 \u001b[34m.git\u001b[m\u001b[m\r\n",
      "-rw-r--r--   1 sergejerosenko  staff   3078  1 фев 17:16 .gitignore\r\n",
      "drwxr-xr-x   3 sergejerosenko  staff     96  1 фев 17:26 \u001b[34m.ipynb_checkpoints\u001b[m\u001b[m\r\n",
      "-rw-r--r--   1 sergejerosenko  staff     52  1 фев 17:16 README.md\r\n",
      "-rw-r--r--   1 sergejerosenko  staff  12948  2 фев 09:41 analysis.ipynb\r\n",
      "drwxr-xr-x   3 sergejerosenko  staff     96  1 фев 17:25 \u001b[34mdata\u001b[m\u001b[m\r\n"
     ]
    }
   ],
   "source": []
  },
  {
   "cell_type": "code",
   "execution_count": null,
   "id": "e5487f99",
   "metadata": {},
   "outputs": [],
   "source": []
  }
 ],
 "metadata": {
  "kernelspec": {
   "display_name": "Python [conda env:root] *",
   "language": "python",
   "name": "conda-root-py"
  },
  "language_info": {
   "codemirror_mode": {
    "name": "ipython",
    "version": 3
   },
   "file_extension": ".py",
   "mimetype": "text/x-python",
   "name": "python",
   "nbconvert_exporter": "python",
   "pygments_lexer": "ipython3",
   "version": "3.8.3"
  }
 },
 "nbformat": 4,
 "nbformat_minor": 5
}
